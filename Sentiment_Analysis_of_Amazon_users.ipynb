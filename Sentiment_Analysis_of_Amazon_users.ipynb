{
  "nbformat": 4,
  "nbformat_minor": 0,
  "metadata": {
    "colab": {
      "provenance": [],
      "authorship_tag": "ABX9TyOHTwwgd8iKjpvQdjCR/Gxh",
      "include_colab_link": true
    },
    "kernelspec": {
      "name": "python3",
      "display_name": "Python 3"
    },
    "language_info": {
      "name": "python"
    }
  },
  "cells": [
    {
      "cell_type": "markdown",
      "metadata": {
        "id": "view-in-github",
        "colab_type": "text"
      },
      "source": [
        "<a href=\"https://colab.research.google.com/github/aayushijain28/lab_programs/blob/main/Sentiment_Analysis_of_Amazon_users.ipynb\" target=\"_parent\"><img src=\"https://colab.research.google.com/assets/colab-badge.svg\" alt=\"Open In Colab\"/></a>"
      ]
    },
    {
      "cell_type": "code",
      "execution_count": 16,
      "metadata": {
        "id": "Cbm_jyhvMpXd"
      },
      "outputs": [],
      "source": [
        "import pandas as pd\n",
        "import seaborn as sns\n",
        "import matplotlib.pyplot as plt\n"
      ]
    },
    {
      "cell_type": "markdown",
      "source": [
        "Data Collection"
      ],
      "metadata": {
        "id": "01aO84UlPYVb"
      }
    },
    {
      "cell_type": "code",
      "source": [
        "column_names = ['Id', 'ProductId', 'UserId', 'ProfileName', 'HelpfulnessNumerator', 'HelpfulnessDenominator', 'Score', 'Time', 'Summary', 'review_body']\n",
        "data = pd.read_csv('/content/Reviews.csv', engine='python', names=column_names, header=0)\n",
        "print(data.head(3))"
      ],
      "metadata": {
        "colab": {
          "base_uri": "https://localhost:8080/"
        },
        "id": "-L1ueNJpM7Iu",
        "outputId": "e1df5bdc-a80c-479e-84c3-14f2ff365fc5"
      },
      "execution_count": 10,
      "outputs": [
        {
          "output_type": "stream",
          "name": "stdout",
          "text": [
            "       Id   ProductId          UserId             ProfileName  \\\n",
            "0  366265  B001D9JC0G  A2X50XV8GRZ4HG                    John   \n",
            "1  366266  B001D9JC0G   ATGHBGFCEO78W            Herding Cats   \n",
            "2  366267  B001D9JC0G  A2P4PTUNWQUM6H  J. Dorr \"Mickey's Mom\"   \n",
            "\n",
            "   HelpfulnessNumerator  HelpfulnessDenominator  Score        Time  \\\n",
            "0                     1                       1      5  1241049600   \n",
            "1                     1                       1      5  1224547200   \n",
            "2                     1                       1      1  1221436800   \n",
            "\n",
            "                                Summary  \\\n",
            "0                Good food for our dogs   \n",
            "1                still a wonderful food   \n",
            "2  Canidae Lost Another Loyal Customer!   \n",
            "\n",
            "                                         review_body  \n",
            "0  I see a lot of negative comments from other re...  \n",
            "1  My dogs started on Canidae 3 years ago. All of...  \n",
            "2  Canidae was the best food for my lab for the l...  \n"
          ]
        }
      ]
    },
    {
      "cell_type": "markdown",
      "source": [
        "Data Processing"
      ],
      "metadata": {
        "id": "SEGn4KnoPbqS"
      }
    },
    {
      "cell_type": "code",
      "source": [
        "import re\n",
        "def clean_text(text):\n",
        "  text=text.lower()\n",
        "  text = re.sub(r'[^\\w\\s]', '', text)  # Remove punctuation\n",
        "  text = re.sub(r'\\d+', '', text)  # Remove numbers\n",
        "  return text\n",
        "data['cleaned_review'] = data['review_body'].apply(clean_text)\n",
        "print(data['cleaned_review'].head())"
      ],
      "metadata": {
        "colab": {
          "base_uri": "https://localhost:8080/"
        },
        "id": "jKn6EPFRPe3X",
        "outputId": "8b7a1e28-6770-4136-b69a-6b437084cacf"
      },
      "execution_count": 12,
      "outputs": [
        {
          "output_type": "stream",
          "name": "stdout",
          "text": [
            "0    i see a lot of negative comments from other re...\n",
            "1    my dogs started on canidae  years ago all of t...\n",
            "2    canidae was the best food for my lab for the l...\n",
            "3    this was a fine food until some time in early ...\n",
            "4    ive tried different foods with my puppies this...\n",
            "Name: cleaned_review, dtype: object\n"
          ]
        }
      ]
    },
    {
      "cell_type": "markdown",
      "source": [
        "Sentiment Labelling:-\n",
        "we need to label each review based on its star rating. We will treat 1–2 stars as negative, 3 stars as neutral and 4–5 stars as positive."
      ],
      "metadata": {
        "id": "oWloHTmdSLiq"
      }
    },
    {
      "cell_type": "code",
      "source": [
        "# Label sentiment based on star rating\n",
        "def label_sentiment(Score):\n",
        "    if Score in [1, 2]:\n",
        "        return 'negative'\n",
        "    elif Score == 3:\n",
        "        return 'neutral'\n",
        "    else:\n",
        "        return 'positive'\n",
        "\n",
        "data['sentiment'] = data['Score'].apply(label_sentiment)\n",
        "print(data[['Score', 'sentiment']].head())"
      ],
      "metadata": {
        "colab": {
          "base_uri": "https://localhost:8080/"
        },
        "id": "UVXzHLdbRRoo",
        "outputId": "85c0beaa-cdfe-4e66-9378-cd3ac3fda4f7"
      },
      "execution_count": 15,
      "outputs": [
        {
          "output_type": "stream",
          "name": "stdout",
          "text": [
            "   Score sentiment\n",
            "0      5  positive\n",
            "1      5  positive\n",
            "2      1  negative\n",
            "3      1  negative\n",
            "4      5  positive\n"
          ]
        }
      ]
    },
    {
      "cell_type": "markdown",
      "source": [
        "Exploratory Data Analysis"
      ],
      "metadata": {
        "id": "PNeKz_rwTWW6"
      }
    },
    {
      "cell_type": "code",
      "source": [
        "# Visualise the sentiment distribution\n",
        "sns.countplot(x='sentiment', data=data, palette='Set2', hue='sentiment', legend=False)\n",
        "plt.title('Sentiment Distribution')\n",
        "plt.show()"
      ],
      "metadata": {
        "colab": {
          "base_uri": "https://localhost:8080/",
          "height": 581
        },
        "id": "kDkuMNM9TRNY",
        "outputId": "d038aeb1-b734-4607-a9ab-72a674ad7ce5"
      },
      "execution_count": 22,
      "outputs": [
        {
          "output_type": "stream",
          "name": "stderr",
          "text": [
            "/tmp/ipython-input-3717667714.py:2: FutureWarning: \n",
            "\n",
            "Passing `palette` without assigning `hue` is deprecated and will be removed in v0.14.0. Assign the `x` variable to `hue` and set `legend=False` for the same effect.\n",
            "\n",
            "  sns.countplot(x='sentiment', data=data, palette='Set2')\n"
          ]
        },
        {
          "output_type": "display_data",
          "data": {
            "text/plain": [
              "<Figure size 640x480 with 1 Axes>"
            ],
            "image/png": "[encoded data removed]"
          },
          "metadata": {}
        }
      ]
    },
    {
      "cell_type": "markdown",
      "source": [
        "Feature extraction and Text processing"
      ],
      "metadata": {
        "id": "uTr5b9bMVJKk"
      }
    },
    {
      "cell_type": "code",
      "source": [
        "from sklearn.feature_extraction.text import TfidfVectorizer\n",
        "\n",
        "# Initialise the TF-IDF vectorizer\n",
        "tfidf_vectorizer = TfidfVectorizer(max_features=1000, stop_words='english')\n",
        "\n",
        "# Fit and transform the cleaned review text\n",
        "X = tfidf_vectorizer.fit_transform(data['cleaned_review'])\n",
        "y = data['sentiment']"
      ],
      "metadata": {
        "id": "8LcV0KPiUMwU"
      },
      "execution_count": 23,
      "outputs": []
    },
    {
      "cell_type": "markdown",
      "source": [
        "Model Selection and Training"
      ],
      "metadata": {
        "id": "FJgaW3Y3XDcN"
      }
    },
    {
      "cell_type": "code",
      "source": [
        "from sklearn.model_selection import train_test_split\n",
        "from sklearn.linear_model import LogisticRegression\n",
        "from sklearn.metrics import accuracy_score, classification_report"
      ],
      "metadata": {
        "id": "Hlrz2tK9XApU"
      },
      "execution_count": 25,
      "outputs": []
    },
    {
      "cell_type": "code",
      "source": [
        "#split the data into testing and training\n",
        "X_train,X_test,y_train,y_test=train_test_split(X,y,test_size=0.2,random_state=42)"
      ],
      "metadata": {
        "id": "-wbWqH52Xayd"
      },
      "execution_count": 27,
      "outputs": []
    },
    {
      "cell_type": "code",
      "source": [
        "#train a logistic regression model\n",
        "model=LogisticRegression(max_iter=1000)\n",
        "model.fit(X_train,y_train)\n",
        "y_pred=model.predict(X_test)\n"
      ],
      "metadata": {
        "id": "5ezWMzwJX2B6"
      },
      "execution_count": 28,
      "outputs": []
    },
    {
      "cell_type": "markdown",
      "source": [
        "Model Evaluation:\n",
        "We will use accuracy, precision, recall and F1-score to measure its effectiveness."
      ],
      "metadata": {
        "id": "q73XHMEvY43H"
      }
    },
    {
      "cell_type": "code",
      "source": [
        "from sklearn.metrics import accuracy_score, classification_report\n",
        "#evaluate model performance\n",
        "accuracy = accuracy_score(y_test, y_pred)\n",
        "print(f\"Accuracy: {accuracy:.2f}\")\n",
        "#display the classification score\n",
        "print(classification_report(y_test, y_pred))"
      ],
      "metadata": {
        "colab": {
          "base_uri": "https://localhost:8080/"
        },
        "id": "0-pm2k4mZET2",
        "outputId": "f22e28c0-ce98-49d9-8482-452da3c6c97a"
      },
      "execution_count": 30,
      "outputs": [
        {
          "output_type": "stream",
          "name": "stdout",
          "text": [
            "Accuracy: 0.84\n",
            "              precision    recall  f1-score   support\n",
            "\n",
            "    negative       0.68      0.56      0.62      5755\n",
            "     neutral       0.49      0.11      0.18      3028\n",
            "    positive       0.87      0.97      0.92     31655\n",
            "\n",
            "    accuracy                           0.84     40438\n",
            "   macro avg       0.68      0.55      0.57     40438\n",
            "weighted avg       0.82      0.84      0.82     40438\n",
            "\n"
          ]
        }
      ]
    },
    {
      "cell_type": "code",
      "source": [
        "# Visualise important words using a bar chart\n",
        "important_words = tfidf_vectorizer.get_feature_names_out()[:10]\n",
        "\n",
        "plt.barh(important_words, model.coef_[0][:10])\n",
        "plt.xlabel('Importance')\n",
        "plt.title('Top Words Influencing Sentiment')\n",
        "plt.show()"
      ],
      "metadata": {
        "colab": {
          "base_uri": "https://localhost:8080/",
          "height": 472
        },
        "id": "XxGwr4HbbAwv",
        "outputId": "dd295f56-aa47-4484-d446-0be893891f7c"
      },
      "execution_count": 31,
      "outputs": [
        {
          "output_type": "display_data",
          "data": {
            "text/plain": [
              "<Figure size 640x480 with 1 Axes>"
            ],
            "image/png": "[encoded data removed]"
          },
          "metadata": {}
        }
      ]
    },
    {
      "cell_type": "markdown",
      "source": [],
      "metadata": {
        "id": "mUR2wXq4VM04"
      }
    }
  ]
}